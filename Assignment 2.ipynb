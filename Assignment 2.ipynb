{
 "cells": [
  {
   "cell_type": "code",
   "execution_count": 4,
   "id": "8500f7d2",
   "metadata": {},
   "outputs": [
    {
     "name": "stdout",
     "output_type": "stream",
     "text": [
      "Enter a number:2\n",
      "Enter a number:3\n",
      "enter a operation symbol either add,sub,mul or div : add\n",
      "Your awnser is  5\n"
     ]
    }
   ],
   "source": [
    "try:\n",
    "    a = int(input('Enter a number:'))\n",
    "    b = int(input('Enter a number:'))\n",
    "    operation = input('enter a operation symbol either add,sub,mul or div : ' )\n",
    "    if operation not in( 'add','sub','mul','div'):\n",
    "         print(\"Enter a valid operation\")\n",
    "    elif operation == 'add':\n",
    "         result = a+b\n",
    "    elif operation == 'sub':\n",
    "        result = a-b\n",
    "    elif operation == 'mul':\n",
    "        result = a*b\n",
    "    elif operation == 'div':\n",
    "        result = a/b\n",
    "        \n",
    "    print(\"Your awnser is \", result)\n",
    "    \n",
    "except ValueError:\n",
    "    print('Please enter a valid integer.')\n",
    "    \n",
    "except ZeroDivisionError:\n",
    "    print(\"Division by zero in not allowed\")\n",
    "    \n",
    "except:\n",
    "    print(\"Your input is incorrect. Please follow the given instruction\")"
   ]
  },
  {
   "cell_type": "code",
   "execution_count": null,
   "id": "301ecc1c",
   "metadata": {},
   "outputs": [],
   "source": []
  }
 ],
 "metadata": {
  "kernelspec": {
   "display_name": "Python 3 (ipykernel)",
   "language": "python",
   "name": "python3"
  },
  "language_info": {
   "codemirror_mode": {
    "name": "ipython",
    "version": 3
   },
   "file_extension": ".py",
   "mimetype": "text/x-python",
   "name": "python",
   "nbconvert_exporter": "python",
   "pygments_lexer": "ipython3",
   "version": "3.11.5"
  }
 },
 "nbformat": 4,
 "nbformat_minor": 5
}
