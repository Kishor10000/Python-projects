{
 "cells": [
  {
   "cell_type": "code",
   "execution_count": 5,
   "id": "f390bf18",
   "metadata": {},
   "outputs": [
    {
     "name": "stdout",
     "output_type": "stream",
     "text": [
      "Enter a number:3\n",
      "Enter a number:5.6\n",
      "enter a operation symbol either add,sub,mul or div : div\n",
      "Your awnser is  0.5357142857142857\n"
     ]
    }
   ],
   "source": [
    "try:\n",
    "    a = float(input('Enter a number:'))\n",
    "    b = float(input('Enter a number:'))\n",
    "    operation = input('enter a operation symbol either add,sub,mul or div : ' )\n",
    "    if operation not in( 'add','sub','mul','div'):\n",
    "         print(\"Enter a valid operation\")\n",
    "    elif operation == 'add':\n",
    "         result = a+b\n",
    "    elif operation == 'sub':\n",
    "        result = a-b\n",
    "    elif operation == 'mul':\n",
    "        result = a*b\n",
    "    elif operation == 'div':\n",
    "        result = a/b\n",
    "        \n",
    "    print(\"Your awnser is \", result)\n",
    "    \n",
    "except ValueError:\n",
    "    print('Please enter a valid integer.')\n",
    "    \n",
    "except ZeroDivisionError:\n",
    "    print(\"Division by zero in not allowed\")\n",
    "    \n",
    "except:\n",
    "    print(\"Your input is incorrect. Please follow the given instruction\")"
   ]
  },
  {
   "cell_type": "code",
   "execution_count": null,
   "id": "26ac6a41",
   "metadata": {},
   "outputs": [],
   "source": []
  }
 ],
 "metadata": {
  "kernelspec": {
   "display_name": "Python 3 (ipykernel)",
   "language": "python",
   "name": "python3"
  },
  "language_info": {
   "codemirror_mode": {
    "name": "ipython",
    "version": 3
   },
   "file_extension": ".py",
   "mimetype": "text/x-python",
   "name": "python",
   "nbconvert_exporter": "python",
   "pygments_lexer": "ipython3",
   "version": "3.11.5"
  }
 },
 "nbformat": 4,
 "nbformat_minor": 5
}
