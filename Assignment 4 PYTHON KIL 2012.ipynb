{
 "cells": [
  {
   "cell_type": "markdown",
   "id": "c09bb95d",
   "metadata": {},
   "source": [
    "# Assignment 4 PYTHON KIL 2012\n"
   ]
  },
  {
   "cell_type": "code",
   "execution_count": 1,
   "id": "75c0ca0c",
   "metadata": {},
   "outputs": [],
   "source": [
    "def checkout_books(librarian_name , *book_titles ,Checkout_Duration = '2 weeks',  **kwargs):\n",
    "    print(\"Checkout Processed by: \" + librarian_name )\n",
    "    print(\"Books Checked Out:\")\n",
    "    for book in book_titles :\n",
    "        print(\" - \" + book)\n",
    "        \n",
    "    print(\"Checkout Duration : \" + Checkout_Duration)\n",
    "    \n",
    "    print(\"Additional Checkout Details: \" )    \n",
    "    for key, value in kwargs.items():\n",
    "        print(' - ' + key + \" : \" + value)\n",
    "\n",
    "        \n",
    "    if 'special_conditions' in kwargs:\n",
    "        print(\"Special Conditions for Checkout:\")\n",
    "        print(' - ' + value)"
   ]
  },
  {
   "cell_type": "code",
   "execution_count": 2,
   "id": "ab15c232",
   "metadata": {},
   "outputs": [
    {
     "name": "stdout",
     "output_type": "stream",
     "text": [
      "Checkout Processed by: Sarah Connor\n",
      "Books Checked Out:\n",
      " - 1984\n",
      " - Brave New World\n",
      "Checkout Duration : 3 weeks\n",
      "Additional Checkout Details: \n",
      " - Late_Fee :  $0.25\n",
      " - Renewals_Allowed : 2\n",
      " - special_conditions : Handle with care\n",
      "Special Conditions for Checkout:\n",
      " - Handle with care\n"
     ]
    }
   ],
   "source": [
    "checkout_books('Sarah Connor', '1984', 'Brave New World',Checkout_Duration =  \"3 weeks\",\n",
    "              Late_Fee = ' $0.25', Renewals_Allowed= '2',\n",
    "              special_conditions='Handle with care' )"
   ]
  },
  {
   "cell_type": "code",
   "execution_count": null,
   "id": "2f5588c1",
   "metadata": {},
   "outputs": [],
   "source": []
  }
 ],
 "metadata": {
  "kernelspec": {
   "display_name": "Python 3 (ipykernel)",
   "language": "python",
   "name": "python3"
  },
  "language_info": {
   "codemirror_mode": {
    "name": "ipython",
    "version": 3
   },
   "file_extension": ".py",
   "mimetype": "text/x-python",
   "name": "python",
   "nbconvert_exporter": "python",
   "pygments_lexer": "ipython3",
   "version": "3.11.5"
  }
 },
 "nbformat": 4,
 "nbformat_minor": 5
}
