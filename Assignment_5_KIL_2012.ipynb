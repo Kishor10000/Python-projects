{
 "cells": [
  {
   "cell_type": "code",
   "execution_count": 214,
   "id": "9bf52c6e",
   "metadata": {
    "scrolled": true
   },
   "outputs": [],
   "source": [
    "def Exercise1(students,top_students):\n",
    "    import csv\n",
    "    with open( students , 'r') as file:\n",
    "        csv_reader = csv.reader(file)\n",
    "        filtered_data = []\n",
    "        filtered_data.append(['Name', 'Age', 'Grade', 'Status'])\n",
    "        for row in csv_reader:\n",
    "            name = row[0]\n",
    "            age = row[1]\n",
    "            grade = row[2]\n",
    "            if grade <= 'B':\n",
    "                row.append('Passed')\n",
    "                filtered_data.append(row)\n",
    "                with open(top_students, 'w', newline='') as New_file:\n",
    "                    writer = csv.writer(New_file)\n",
    "                    writer.writerows(filtered_data)\n",
    "\n",
    "                \n",
    "                \n",
    "              \n",
    "   \n",
    "\n",
    "                    \n",
    "    \n",
    "        \n",
    "        "
   ]
  },
  {
   "cell_type": "code",
   "execution_count": 215,
   "id": "37da8c1d",
   "metadata": {
    "scrolled": true
   },
   "outputs": [],
   "source": [
    " Exercise1('students.csv', 'top_students.csv')"
   ]
  },
  {
   "cell_type": "code",
   "execution_count": null,
   "id": "35812a66",
   "metadata": {
    "scrolled": true
   },
   "outputs": [
    {
     "name": "stdout",
     "output_type": "stream",
     "text": [
      "Enter the name of a state: Johor\n",
      "Population of Johor : 3794000\n",
      "Enter the name of a state: UnknownState\n",
      "UnknownState is not found in the data.\n"
     ]
    }
   ],
   "source": [
    "import requests\n",
    "api_url = \"https://jian.sh/malaysia-api/state/v1/all.json\"\n",
    "response = requests.get(api_url)\n",
    "malaysia_state_data = response.json()\n",
    "\n",
    "state_pop = {}\n",
    "for item in malaysia_state_data:\n",
    "    state = item[\"state\"]\n",
    "    pop = item[\"population\"]\n",
    "    state_pop[state] = pop\n",
    "    state = input(\"Enter the name of a state: \")\n",
    "\n",
    "    if state in state_pop:\n",
    "        print(f\"Population of {state} : {state_pop[state]}\")\n",
    "    \n",
    "    else:\n",
    "        print(f\"{state} is not found in the data.\")        \n",
    "        "
   ]
  },
  {
   "cell_type": "code",
   "execution_count": null,
   "id": "12637172",
   "metadata": {},
   "outputs": [],
   "source": []
  },
  {
   "cell_type": "code",
   "execution_count": null,
   "id": "b3f42a83",
   "metadata": {},
   "outputs": [],
   "source": []
  },
  {
   "cell_type": "code",
   "execution_count": null,
   "id": "4020141a",
   "metadata": {},
   "outputs": [],
   "source": []
  },
  {
   "cell_type": "code",
   "execution_count": null,
   "id": "4ca457af",
   "metadata": {},
   "outputs": [],
   "source": []
  },
  {
   "cell_type": "code",
   "execution_count": null,
   "id": "0076bfac",
   "metadata": {},
   "outputs": [],
   "source": []
  }
 ],
 "metadata": {
  "kernelspec": {
   "display_name": "Python 3 (ipykernel)",
   "language": "python",
   "name": "python3"
  },
  "language_info": {
   "codemirror_mode": {
    "name": "ipython",
    "version": 3
   },
   "file_extension": ".py",
   "mimetype": "text/x-python",
   "name": "python",
   "nbconvert_exporter": "python",
   "pygments_lexer": "ipython3",
   "version": "3.11.5"
  }
 },
 "nbformat": 4,
 "nbformat_minor": 5
}
