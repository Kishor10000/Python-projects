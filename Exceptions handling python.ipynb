{
 "cells": [
  {
   "cell_type": "code",
   "execution_count": 3,
   "id": "806aba30",
   "metadata": {},
   "outputs": [
    {
     "name": "stdout",
     "output_type": "stream",
     "text": [
      "enter a number:a+b\n"
     ]
    },
    {
     "ename": "ValueError",
     "evalue": "invalid literal for int() with base 10: 'a+b'",
     "output_type": "error",
     "traceback": [
      "\u001b[1;31m---------------------------------------------------------------------------\u001b[0m",
      "\u001b[1;31mValueError\u001b[0m                                Traceback (most recent call last)",
      "Cell \u001b[1;32mIn[3], line 1\u001b[0m\n\u001b[1;32m----> 1\u001b[0m number \u001b[38;5;241m=\u001b[39m \u001b[38;5;28mint\u001b[39m(\u001b[38;5;28minput\u001b[39m(\u001b[38;5;124m\"\u001b[39m\u001b[38;5;124menter a number:\u001b[39m\u001b[38;5;124m\"\u001b[39m))\n\u001b[0;32m      3\u001b[0m a\u001b[38;5;241m=\u001b[39m \u001b[38;5;241m10\u001b[39m\n\u001b[0;32m      4\u001b[0m b \u001b[38;5;241m=\u001b[39m \u001b[38;5;241m20\u001b[39m\n",
      "\u001b[1;31mValueError\u001b[0m: invalid literal for int() with base 10: 'a+b'"
     ]
    }
   ],
   "source": [
    "number = int(input(\"enter a number:\"))\n",
    "\n",
    "a= 10\n",
    "b = 20\n",
    "print(a+b)"
   ]
  },
  {
   "cell_type": "code",
   "execution_count": 4,
   "id": "b3cd2126",
   "metadata": {},
   "outputs": [
    {
     "ename": "TypeError",
     "evalue": "can only concatenate str (not \"int\") to str",
     "output_type": "error",
     "traceback": [
      "\u001b[1;31m---------------------------------------------------------------------------\u001b[0m",
      "\u001b[1;31mTypeError\u001b[0m                                 Traceback (most recent call last)",
      "Cell \u001b[1;32mIn[4], line 1\u001b[0m\n\u001b[1;32m----> 1\u001b[0m x \u001b[38;5;241m=\u001b[39m\u001b[38;5;124m'\u001b[39m\u001b[38;5;124m2\u001b[39m\u001b[38;5;124m'\u001b[39m\u001b[38;5;241m+\u001b[39m\u001b[38;5;241m2\u001b[39m\n",
      "\u001b[1;31mTypeError\u001b[0m: can only concatenate str (not \"int\") to str"
     ]
    }
   ],
   "source": [
    "x ='2'+2"
   ]
  },
  {
   "cell_type": "code",
   "execution_count": 7,
   "id": "4bc38b60",
   "metadata": {},
   "outputs": [
    {
     "name": "stdout",
     "output_type": "stream",
     "text": [
      "Enter integer only\n"
     ]
    }
   ],
   "source": [
    "try:\n",
    "    # code that might raise an exception\n",
    "    x = \"2\"+ 2\n",
    "except:\n",
    "    # code that if the exception occurs\n",
    "    print('Enter integer only')"
   ]
  },
  {
   "cell_type": "code",
   "execution_count": 12,
   "id": "95ad8f6b",
   "metadata": {},
   "outputs": [
    {
     "name": "stdout",
     "output_type": "stream",
     "text": [
      "Please enter a valid number: a\n",
      "Input only ann integer\n"
     ]
    }
   ],
   "source": [
    "try:\n",
    "    number = int(input('Please enter a valid number: '))\n",
    "    \n",
    "except:\n",
    "    print('Input only ann integer')"
   ]
  },
  {
   "cell_type": "code",
   "execution_count": 21,
   "id": "7327c95d",
   "metadata": {},
   "outputs": [
    {
     "name": "stdout",
     "output_type": "stream",
     "text": [
      "1\n",
      "This value exsist in the list\n"
     ]
    }
   ],
   "source": [
    "try:\n",
    "    my_list = [1,2,3]\n",
    "    print(my_list[0])\n",
    "    print('This value exsist in the list')\n",
    "except:\n",
    "    print('This value exsist in the list')\n",
    "    "
   ]
  },
  {
   "cell_type": "code",
   "execution_count": 17,
   "id": "6cb6ace3",
   "metadata": {},
   "outputs": [
    {
     "ename": "SyntaxError",
     "evalue": "invalid syntax (3038626480.py, line 2)",
     "output_type": "error",
     "traceback": [
      "\u001b[1;36m  Cell \u001b[1;32mIn[17], line 2\u001b[1;36m\u001b[0m\n\u001b[1;33m    my_dictionary {'a'}\u001b[0m\n\u001b[1;37m                  ^\u001b[0m\n\u001b[1;31mSyntaxError\u001b[0m\u001b[1;31m:\u001b[0m invalid syntax\n"
     ]
    }
   ],
   "source": [
    "my_dictionary = {'a':1}\n",
    "my_dictionary {'a'}"
   ]
  },
  {
   "cell_type": "code",
   "execution_count": 28,
   "id": "8b1c652a",
   "metadata": {},
   "outputs": [
    {
     "name": "stdout",
     "output_type": "stream",
     "text": [
      "Enter a number: a\n",
      "That's not a number!\n",
      "This is executed no matter what!\n"
     ]
    }
   ],
   "source": [
    "\n",
    "    \n",
    "    try:\n",
    "        number = int(input(\"Enter a number: \"))\n",
    "    except ValueError:\n",
    "        print(\"That's not a number!\")\n",
    "    else:\n",
    "        print(\"You entered a number!\")\n",
    "    finally:\n",
    "        print(\"This is executed no matter what!\")\n",
    "\n",
    "\n",
    "\n"
   ]
  },
  {
   "cell_type": "code",
   "execution_count": 24,
   "id": "6ddd8500",
   "metadata": {},
   "outputs": [
    {
     "name": "stdout",
     "output_type": "stream",
     "text": [
      "Enter a number:0\n",
      "Division by zero in not allowed\n"
     ]
    }
   ],
   "source": [
    "try:\n",
    "    user_input = input('Enter a number:' )\n",
    "    result = 1/ int(user_input)\n",
    "    print(result)\n",
    "    \n",
    "except ValueError:\n",
    "    print('Please enter a valid integer.')\n",
    "    \n",
    "except ZeroDivisionError:\n",
    "    print(\"Division by zero in not allowed\")"
   ]
  },
  {
   "cell_type": "markdown",
   "id": "eb356056",
   "metadata": {},
   "source": [
    "# Assignment 2"
   ]
  },
  {
   "cell_type": "code",
   "execution_count": 8,
   "id": "588fb664",
   "metadata": {},
   "outputs": [
    {
     "name": "stdout",
     "output_type": "stream",
     "text": [
      "Enter a number:4\n",
      "Enter a number:2\n",
      "enter a operation symbol either add,sub,mul or div : sub\n",
      "2\n"
     ]
    }
   ],
   "source": [
    "try:\n",
    "    a = int(input('Enter a number:'))\n",
    "    b = int(input('Enter a number:'))\n",
    "    operation = input('enter a operation symbol either add,sub,mul or div : ' )\n",
    "    if operation not in( 'add','sub','mul','div'):\n",
    "         print(\"Enter a valid operation\")\n",
    "    elif operation == 'add':\n",
    "         result = a+b\n",
    "    elif operation == 'sub':\n",
    "        result = a-b\n",
    "    elif operation == 'mul':\n",
    "        result = a*b\n",
    "    elif operation == 'div':\n",
    "        result = a/b\n",
    "        \n",
    "    print(result)\n",
    "    \n",
    "except ValueError:\n",
    "    print('Please enter a valid integer.')\n",
    "    \n",
    "except ZeroDivisionError:\n",
    "    print(\"Division by zero in not allowed\")\n",
    "    \n",
    "except:\n",
    "    print(\"Your input is incorrect. Please follow the given instruction\")"
   ]
  },
  {
   "cell_type": "code",
   "execution_count": 9,
   "id": "ef615e0b",
   "metadata": {},
   "outputs": [
    {
     "name": "stdout",
     "output_type": "stream",
     "text": [
      "6\n"
     ]
    }
   ],
   "source": [
    "print(2*3)"
   ]
  },
  {
   "cell_type": "code",
   "execution_count": null,
   "id": "e97efb32",
   "metadata": {},
   "outputs": [],
   "source": []
  }
 ],
 "metadata": {
  "kernelspec": {
   "display_name": "Python 3 (ipykernel)",
   "language": "python",
   "name": "python3"
  },
  "language_info": {
   "codemirror_mode": {
    "name": "ipython",
    "version": 3
   },
   "file_extension": ".py",
   "mimetype": "text/x-python",
   "name": "python",
   "nbconvert_exporter": "python",
   "pygments_lexer": "ipython3",
   "version": "3.11.5"
  }
 },
 "nbformat": 4,
 "nbformat_minor": 5
}
