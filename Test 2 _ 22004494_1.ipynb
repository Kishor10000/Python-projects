{
 "cells": [
  {
   "cell_type": "code",
   "execution_count": 12,
   "id": "6f227c89",
   "metadata": {},
   "outputs": [],
   "source": [
    "import numpy as np\n",
    "import scipy as sc\n",
    "import matplotlib.pyplot as plt\n",
    "from scipy.integrate import odeint"
   ]
  },
  {
   "cell_type": "code",
   "execution_count": 73,
   "id": "1f211d52",
   "metadata": {},
   "outputs": [],
   "source": [
    "def test(y):\n",
    "    y0 = 1\n",
    "    t0= ([0,2]) \n",
    "    y = y0\n",
    "    t= t0\n",
    "    f = -2*y*t\n",
    "    soln = odeint(f, y, t)\n",
    "    print(soln)\n",
    "    return test\n",
    "    print(test)\n",
    "    \n",
    "    # Plotting the results for the initial scenario\n",
    "    plt.plot(t,y, color = 'blue')\n",
    "    plt.title(\"y versus t\")\n",
    "    plt.xlabel('t')\n",
    "    plt.ylabel('y')\n",
    "    plt.grid(True)\n",
    "    plt.show()\n",
    "\n"
   ]
  },
  {
   "cell_type": "code",
   "execution_count": 74,
   "id": "47c10315",
   "metadata": {},
   "outputs": [
    {
     "ename": "UnboundLocalError",
     "evalue": "cannot access local variable 'soln' where it is not associated with a value",
     "output_type": "error",
     "traceback": [
      "\u001b[1;31m---------------------------------------------------------------------------\u001b[0m",
      "\u001b[1;31mUnboundLocalError\u001b[0m                         Traceback (most recent call last)",
      "Cell \u001b[1;32mIn[74], line 1\u001b[0m\n\u001b[1;32m----> 1\u001b[0m test(\u001b[38;5;241m1\u001b[39m)\n",
      "Cell \u001b[1;32mIn[73], line 7\u001b[0m, in \u001b[0;36mtest\u001b[1;34m(y)\u001b[0m\n\u001b[0;32m      5\u001b[0m t\u001b[38;5;241m=\u001b[39m t0\n\u001b[0;32m      6\u001b[0m f \u001b[38;5;241m=\u001b[39m \u001b[38;5;241m-\u001b[39m\u001b[38;5;241m2\u001b[39m\u001b[38;5;241m*\u001b[39my\u001b[38;5;241m*\u001b[39mt\n\u001b[1;32m----> 7\u001b[0m \u001b[38;5;28mprint\u001b[39m(soln)\n\u001b[0;32m      8\u001b[0m \u001b[38;5;28mprint\u001b[39m(test)\n\u001b[0;32m      9\u001b[0m soln \u001b[38;5;241m=\u001b[39m odeint(f, y, t)\n",
      "\u001b[1;31mUnboundLocalError\u001b[0m: cannot access local variable 'soln' where it is not associated with a value"
     ]
    }
   ],
   "source": [
    "test(1)"
   ]
  },
  {
   "cell_type": "code",
   "execution_count": 24,
   "id": "1ac12e54",
   "metadata": {},
   "outputs": [],
   "source": [
    "A = np.array([[2,4,6],[5,3,2],[7,8,9]]) # first array containing all the equations"
   ]
  },
  {
   "cell_type": "code",
   "execution_count": 25,
   "id": "8dafbbee",
   "metadata": {},
   "outputs": [],
   "source": [
    "B = np.array([[18],[13],[30]]) # second array containing all the results of the equation"
   ]
  },
  {
   "cell_type": "code",
   "execution_count": 26,
   "id": "f863a432",
   "metadata": {},
   "outputs": [],
   "source": [
    "C = sc.linalg.solve(A,b) # function to obtain the awnsers"
   ]
  },
  {
   "cell_type": "code",
   "execution_count": 27,
   "id": "0aa85624",
   "metadata": {},
   "outputs": [
    {
     "name": "stdout",
     "output_type": "stream",
     "text": [
      "[[ 14.66666667]\n",
      " [-35.33333333]\n",
      " [ 20.33333333]]\n"
     ]
    }
   ],
   "source": [
    "print(C) # print awnsers"
   ]
  },
  {
   "cell_type": "code",
   "execution_count": 50,
   "id": "a27a0820",
   "metadata": {},
   "outputs": [],
   "source": [
    "import requests\n",
    "api_url = \"https://api.open-meteo.com/v1/forecast?latitude=2.5&longitude=112.5&hourly=temperature_2m&timezone=Asia%2FSingapore&forecast_days=1\"\n",
    "response = requests.get(api_url)\n",
    "temperature_data = response.json()"
   ]
  },
  {
   "cell_type": "code",
   "execution_count": 62,
   "id": "9080ad61",
   "metadata": {},
   "outputs": [
    {
     "ename": "SyntaxError",
     "evalue": "invalid syntax (2365330.py, line 2)",
     "output_type": "error",
     "traceback": [
      "\u001b[1;36m  Cell \u001b[1;32mIn[62], line 2\u001b[1;36m\u001b[0m\n\u001b[1;33m    latitude = item{\"latitude\"}\u001b[0m\n\u001b[1;37m                   ^\u001b[0m\n\u001b[1;31mSyntaxError\u001b[0m\u001b[1;31m:\u001b[0m invalid syntax\n"
     ]
    }
   ],
   "source": [
    "for item in temperature_data:\n",
    "    latitude = item[\"latitude\"]\n",
    "    longitude = item[\"longitude\"]\n",
    "    timezone = item[\"timezone\"]\n",
    "    hourly_units = item[\"hourly_units\"]\n",
    "    temperature_2m = item[\"temperature_2m\"]\n",
    "    timezone = [0,16]"
   ]
  },
  {
   "cell_type": "code",
   "execution_count": null,
   "id": "4d2f4b45",
   "metadata": {},
   "outputs": [],
   "source": [
    "plt.figure(temperature_data)\n",
    "plt.plot(time T,)\n",
    "plt.xlabel('time (h)')\n",
    "plt.ylabel('Temperature')\n",
    "plt.title('hourly time against temperature')\n",
    "plt.grid(True)"
   ]
  }
 ],
 "metadata": {
  "kernelspec": {
   "display_name": "Python 3 (ipykernel)",
   "language": "python",
   "name": "python3"
  },
  "language_info": {
   "codemirror_mode": {
    "name": "ipython",
    "version": 3
   },
   "file_extension": ".py",
   "mimetype": "text/x-python",
   "name": "python",
   "nbconvert_exporter": "python",
   "pygments_lexer": "ipython3",
   "version": "3.11.5"
  }
 },
 "nbformat": 4,
 "nbformat_minor": 5
}
